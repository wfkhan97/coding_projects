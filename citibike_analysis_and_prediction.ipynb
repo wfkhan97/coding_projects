{
 "cells": [
  {
   "cell_type": "markdown",
   "id": "0111eecf",
   "metadata": {},
   "source": [
    "# Analyzing Citibike Data and Predicting Dock Availability"
   ]
  },
  {
   "cell_type": "code",
   "execution_count": null,
   "id": "f5dfa218",
   "metadata": {},
   "outputs": [],
   "source": [
    "# Step 1: Load the Data\n",
    "import pandas as pd\n",
    "\n",
    "data = pd.read_csv('/mnt/data/202301-citibike-tripdata_1.csv')"
   ]
  },
  {
   "cell_type": "code",
   "execution_count": null,
   "id": "43728728",
   "metadata": {},
   "outputs": [],
   "source": [
    "# Step 2: Explore the Data\n",
    "print(data.head())\n",
    "print(data.info())"
   ]
  },
  {
   "cell_type": "code",
   "execution_count": null,
   "id": "34e36aeb",
   "metadata": {},
   "outputs": [],
   "source": [
    "# Step 3: Preprocess the Data\n",
    "# Convert timestamps to datetime\n",
    "data['started_at'] = pd.to_datetime(data['started_at'])\n",
    "data['ended_at'] = pd.to_datetime(data['ended_at'])\n",
    "\n",
    "# Extract features for analysis\n",
    "data['start_hour'] = data['started_at'].dt.hour\n",
    "data['day_of_week'] = data['started_at'].dt.day_name()"
   ]
  },
  {
   "cell_type": "code",
   "execution_count": null,
   "id": "6f64c463",
   "metadata": {},
   "outputs": [],
   "source": [
    "# Step 4: Analyze Dock Availability\n",
    "# Group by start station and hour\n",
    "dock_availability = data.groupby(['start_station_name', 'start_hour']).size().reset_index(name='trip_count')\n",
    "print(dock_availability.head())"
   ]
  },
  {
   "cell_type": "code",
   "execution_count": null,
   "id": "5960f158",
   "metadata": {},
   "outputs": [],
   "source": [
    "# Step 5: Train a Model to Predict Dock Availability\n",
    "from sklearn.model_selection import train_test_split\n",
    "from sklearn.ensemble import RandomForestRegressor\n",
    "\n",
    "# Prepare features and target variable\n",
    "features = pd.get_dummies(dock_availability[['start_station_name', 'start_hour']], drop_first=True)\n",
    "target = dock_availability['trip_count']\n",
    "\n",
    "X_train, X_test, y_train, y_test = train_test_split(features, target, test_size=0.2, random_state=42)\n",
    "\n",
    "# Train the model\n",
    "model = RandomForestRegressor(random_state=42)\n",
    "model.fit(X_train, y_train)\n",
    "\n",
    "# Evaluate the model\n",
    "print(f\"Model R^2 Score: {model.score(X_test, y_test):.2f}\")"
   ]
  },
  {
   "cell_type": "code",
   "execution_count": null,
   "id": "349bad38",
   "metadata": {},
   "outputs": [],
   "source": [
    "# Step 6: Prediction Example\n",
    "example_input = pd.DataFrame({\n",
    "    'start_station_name': ['Station A'],\n",
    "    'start_hour': [9]\n",
    "})\n",
    "example_features = pd.get_dummies(example_input, drop_first=True)\n",
    "example_features = example_features.reindex(columns=features.columns, fill_value=0)\n",
    "\n",
    "prediction = model.predict(example_features)\n",
    "print(f\"Predicted Dock Availability: {prediction[0]:.2f}\")"
   ]
  }
 ],
 "metadata": {},
 "nbformat": 4,
 "nbformat_minor": 5
}

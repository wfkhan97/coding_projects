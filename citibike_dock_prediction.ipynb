{
 "cells": [
  {
   "cell_type": "markdown",
   "id": "5d59ae7c",
   "metadata": {},
   "source": [
    "# Predicting Citibike Dock Availability"
   ]
  },
  {
   "cell_type": "code",
   "execution_count": null,
   "id": "58aef3a3",
   "metadata": {},
   "outputs": [],
   "source": [
    "# Step 1: Load the Data\n",
    "import pandas as pd\n",
    "from geopy.distance import geodesic\n",
    "import numpy as np\n",
    "\n",
    "# Load dataset\n",
    "data = pd.read_csv('/mnt/data/202301-citibike-tripdata_1.csv')"
   ]
  },
  {
   "cell_type": "code",
   "execution_count": null,
   "id": "38ad5c87",
   "metadata": {},
   "outputs": [],
   "source": [
    "# Step 2: Explore the Data\n",
    "print(data.head())\n",
    "print(data.info())"
   ]
  },
  {
   "cell_type": "code",
   "execution_count": null,
   "id": "1eae4eaa",
   "metadata": {},
   "outputs": [],
   "source": [
    "# Step 3: Preprocess the Data\n",
    "# Convert timestamps to datetime\n",
    "data['started_at'] = pd.to_datetime(data['started_at'])\n",
    "data['ended_at'] = pd.to_datetime(data['ended_at'])\n",
    "\n",
    "# Extract features for analysis\n",
    "data['start_hour'] = data['started_at'].dt.hour\n",
    "data['day_of_week'] = data['started_at'].dt.day_name()\n",
    "\n",
    "# Map station coordinates for reference\n",
    "station_coords = data[['start_station_name', 'start_lat', 'start_lng']].drop_duplicates()\n",
    "station_coords.set_index('start_station_name', inplace=True)"
   ]
  },
  {
   "cell_type": "code",
   "execution_count": null,
   "id": "101beac3",
   "metadata": {},
   "outputs": [],
   "source": [
    "# Step 4: Function to Analyze Nearby Dock Availability\n",
    "def get_nearby_docks(destination_lat, destination_lng, radius=0.25):\n",
    "    nearby_stations = []\n",
    "    for station, coords in station_coords.iterrows():\n",
    "        dist = geodesic((destination_lat, destination_lng), (coords['start_lat'], coords['start_lng'])).miles\n",
    "        if dist <= radius:\n",
    "            nearby_stations.append(station)\n",
    "    return nearby_stations"
   ]
  },
  {
   "cell_type": "code",
   "execution_count": null,
   "id": "8e5fe529",
   "metadata": {},
   "outputs": [],
   "source": [
    "# Step 5: Train a Model to Predict Dock Availability\n",
    "from sklearn.model_selection import train_test_split\n",
    "from sklearn.ensemble import RandomForestRegressor\n",
    "\n",
    "# Group by start station and hour for dock availability analysis\n",
    "dock_availability = data.groupby(['start_station_name', 'start_hour']).size().reset_index(name='trip_count')\n",
    "\n",
    "# Prepare features and target variable\n",
    "features = pd.get_dummies(dock_availability[['start_station_name', 'start_hour']], drop_first=True)\n",
    "target = dock_availability['trip_count']\n",
    "\n",
    "X_train, X_test, y_train, y_test = train_test_split(features, target, test_size=0.2, random_state=42)\n",
    "\n",
    "# Train the model\n",
    "model = RandomForestRegressor(random_state=42)\n",
    "model.fit(X_train, y_train)\n",
    "\n",
    "# Evaluate the model\n",
    "print(f\"Model R^2 Score: {model.score(X_test, y_test):.2f}\")"
   ]
  },
  {
   "cell_type": "code",
   "execution_count": null,
   "id": "79f21715",
   "metadata": {},
   "outputs": [],
   "source": [
    "# Step 6: Prediction Function\n",
    "def predict_dock_availability(start_station, start_hour, destination_lat, destination_lng, travel_time):\n",
    "    # Estimate arrival time\n",
    "    arrival_hour = (start_hour + travel_time // 60) % 24\n",
    "\n",
    "    # Get nearby stations within radius\n",
    "    nearby_stations = get_nearby_docks(destination_lat, destination_lng)\n",
    "\n",
    "    # Prepare predictions for each nearby station\n",
    "    predictions = {}\n",
    "    for station in nearby_stations:\n",
    "        example_input = pd.DataFrame({\n",
    "            'start_station_name': [station],\n",
    "            'start_hour': [arrival_hour]\n",
    "        })\n",
    "        example_features = pd.get_dummies(example_input, drop_first=True)\n",
    "        example_features = example_features.reindex(columns=features.columns, fill_value=0)\n",
    "\n",
    "        predicted_availability = model.predict(example_features)[0]\n",
    "        predictions[station] = predicted_availability\n",
    "\n",
    "    return predictions"
   ]
  },
  {
   "cell_type": "code",
   "execution_count": null,
   "id": "eda3a2be",
   "metadata": {},
   "outputs": [],
   "source": [
    "# Example Prediction Usage\n",
    "start_station = 'Station A'\n",
    "start_hour = 9\n",
    "destination_lat, destination_lng = 40.7500, -73.9900 # Example coordinates\n",
    "travel_time = 15 # in minutes\n",
    "\n",
    "predicted_dock_availability = predict_dock_availability(start_station, start_hour, destination_lat, destination_lng, travel_time)\n",
    "print(\"Predicted Dock Availability:\", predicted_dock_availability)"
   ]
  }
 ],
 "metadata": {},
 "nbformat": 4,
 "nbformat_minor": 5
}
